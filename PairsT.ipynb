{
 "cells": [
  {
   "cell_type": "markdown",
   "id": "bbf2cbdb-60a9-4ed4-8158-61f73656678d",
   "metadata": {},
   "source": [
    "## Install yfinance"
   ]
  },
  {
   "cell_type": "code",
   "execution_count": 1,
   "id": "d7633cb3-e0a9-4d38-9838-c5231493a426",
   "metadata": {},
   "outputs": [
    {
     "name": "stdout",
     "output_type": "stream",
     "text": [
      "Requirement already satisfied: yfinance in /opt/anaconda3/lib/python3.12/site-packages (0.2.50)\n",
      "Requirement already satisfied: pandas>=1.3.0 in /opt/anaconda3/lib/python3.12/site-packages (from yfinance) (2.2.2)\n",
      "Requirement already satisfied: numpy>=1.16.5 in /opt/anaconda3/lib/python3.12/site-packages (from yfinance) (1.26.4)\n",
      "Requirement already satisfied: requests>=2.31 in /opt/anaconda3/lib/python3.12/site-packages (from yfinance) (2.32.3)\n",
      "Requirement already satisfied: multitasking>=0.0.7 in /opt/anaconda3/lib/python3.12/site-packages (from yfinance) (0.0.11)\n",
      "Requirement already satisfied: lxml>=4.9.1 in /opt/anaconda3/lib/python3.12/site-packages (from yfinance) (5.2.1)\n",
      "Requirement already satisfied: platformdirs>=2.0.0 in /opt/anaconda3/lib/python3.12/site-packages (from yfinance) (3.10.0)\n",
      "Requirement already satisfied: pytz>=2022.5 in /opt/anaconda3/lib/python3.12/site-packages (from yfinance) (2024.1)\n",
      "Requirement already satisfied: frozendict>=2.3.4 in /opt/anaconda3/lib/python3.12/site-packages (from yfinance) (2.4.2)\n",
      "Requirement already satisfied: peewee>=3.16.2 in /opt/anaconda3/lib/python3.12/site-packages (from yfinance) (3.17.8)\n",
      "Requirement already satisfied: beautifulsoup4>=4.11.1 in /opt/anaconda3/lib/python3.12/site-packages (from yfinance) (4.12.3)\n",
      "Requirement already satisfied: html5lib>=1.1 in /opt/anaconda3/lib/python3.12/site-packages (from yfinance) (1.1)\n",
      "Requirement already satisfied: soupsieve>1.2 in /opt/anaconda3/lib/python3.12/site-packages (from beautifulsoup4>=4.11.1->yfinance) (2.5)\n",
      "Requirement already satisfied: six>=1.9 in /opt/anaconda3/lib/python3.12/site-packages (from html5lib>=1.1->yfinance) (1.16.0)\n",
      "Requirement already satisfied: webencodings in /opt/anaconda3/lib/python3.12/site-packages (from html5lib>=1.1->yfinance) (0.5.1)\n",
      "Requirement already satisfied: python-dateutil>=2.8.2 in /opt/anaconda3/lib/python3.12/site-packages (from pandas>=1.3.0->yfinance) (2.9.0.post0)\n",
      "Requirement already satisfied: tzdata>=2022.7 in /opt/anaconda3/lib/python3.12/site-packages (from pandas>=1.3.0->yfinance) (2023.3)\n",
      "Requirement already satisfied: charset-normalizer<4,>=2 in /opt/anaconda3/lib/python3.12/site-packages (from requests>=2.31->yfinance) (3.3.2)\n",
      "Requirement already satisfied: idna<4,>=2.5 in /opt/anaconda3/lib/python3.12/site-packages (from requests>=2.31->yfinance) (3.7)\n",
      "Requirement already satisfied: urllib3<3,>=1.21.1 in /opt/anaconda3/lib/python3.12/site-packages (from requests>=2.31->yfinance) (2.2.3)\n",
      "Requirement already satisfied: certifi>=2017.4.17 in /opt/anaconda3/lib/python3.12/site-packages (from requests>=2.31->yfinance) (2024.8.30)\n",
      "Note: you may need to restart the kernel to use updated packages.\n"
     ]
    }
   ],
   "source": [
    "pip install yfinance"
   ]
  },
  {
   "cell_type": "code",
   "execution_count": 2,
   "id": "6ddf783a-7c1b-40e2-9ab6-baecaae08c7f",
   "metadata": {},
   "outputs": [],
   "source": [
    "import yfinance as yf"
   ]
  },
  {
   "cell_type": "markdown",
   "id": "0c2ce126-a18b-4f33-92ea-4d805b1609a1",
   "metadata": {},
   "source": [
    "## Download the data"
   ]
  },
  {
   "cell_type": "code",
   "execution_count": 3,
   "id": "ca120e3b-a235-4af8-84a4-35464b11e2b9",
   "metadata": {},
   "outputs": [
    {
     "name": "stderr",
     "output_type": "stream",
     "text": [
      "[*********************100%***********************]  1 of 1 completed\n"
     ]
    }
   ],
   "source": [
    "# Weekly BTC data for the past year\n",
    "btc_weekly = yf.download(\"BTC-USD\", \n",
    "                          start=\"2023-12-09\", \n",
    "                          end=\"2024-12-09\", \n",
    "                          interval=\"1wk\")"
   ]
  },
  {
   "cell_type": "code",
   "execution_count": 4,
   "id": "0a463ac5-6704-45d0-bd52-5ab07731b780",
   "metadata": {},
   "outputs": [
    {
     "data": {
      "text/html": [
       "<div>\n",
       "<style scoped>\n",
       "    .dataframe tbody tr th:only-of-type {\n",
       "        vertical-align: middle;\n",
       "    }\n",
       "\n",
       "    .dataframe tbody tr th {\n",
       "        vertical-align: top;\n",
       "    }\n",
       "\n",
       "    .dataframe thead tr th {\n",
       "        text-align: left;\n",
       "    }\n",
       "\n",
       "    .dataframe thead tr:last-of-type th {\n",
       "        text-align: right;\n",
       "    }\n",
       "</style>\n",
       "<table border=\"1\" class=\"dataframe\">\n",
       "  <thead>\n",
       "    <tr>\n",
       "      <th>Price</th>\n",
       "      <th>Adj Close</th>\n",
       "      <th>Close</th>\n",
       "      <th>High</th>\n",
       "      <th>Low</th>\n",
       "      <th>Open</th>\n",
       "      <th>Volume</th>\n",
       "    </tr>\n",
       "    <tr>\n",
       "      <th>Ticker</th>\n",
       "      <th>BTC-USD</th>\n",
       "      <th>BTC-USD</th>\n",
       "      <th>BTC-USD</th>\n",
       "      <th>BTC-USD</th>\n",
       "      <th>BTC-USD</th>\n",
       "      <th>BTC-USD</th>\n",
       "    </tr>\n",
       "    <tr>\n",
       "      <th>Date</th>\n",
       "      <th></th>\n",
       "      <th></th>\n",
       "      <th></th>\n",
       "      <th></th>\n",
       "      <th></th>\n",
       "      <th></th>\n",
       "    </tr>\n",
       "  </thead>\n",
       "  <tbody>\n",
       "    <tr>\n",
       "      <th>2023-12-04</th>\n",
       "      <td>43779.699219</td>\n",
       "      <td>43779.699219</td>\n",
       "      <td>44361.257812</td>\n",
       "      <td>43593.285156</td>\n",
       "      <td>44180.019531</td>\n",
       "      <td>30368691589</td>\n",
       "    </tr>\n",
       "    <tr>\n",
       "      <th>2023-12-11</th>\n",
       "      <td>41364.664062</td>\n",
       "      <td>41364.664062</td>\n",
       "      <td>43808.375000</td>\n",
       "      <td>40234.578125</td>\n",
       "      <td>43792.019531</td>\n",
       "      <td>168493481950</td>\n",
       "    </tr>\n",
       "    <tr>\n",
       "      <th>2023-12-18</th>\n",
       "      <td>43016.117188</td>\n",
       "      <td>43016.117188</td>\n",
       "      <td>44367.957031</td>\n",
       "      <td>40530.257812</td>\n",
       "      <td>41348.203125</td>\n",
       "      <td>152084171491</td>\n",
       "    </tr>\n",
       "    <tr>\n",
       "      <th>2023-12-25</th>\n",
       "      <td>42265.187500</td>\n",
       "      <td>42265.187500</td>\n",
       "      <td>43804.781250</td>\n",
       "      <td>41424.062500</td>\n",
       "      <td>43010.574219</td>\n",
       "      <td>157807126208</td>\n",
       "    </tr>\n",
       "    <tr>\n",
       "      <th>2024-01-01</th>\n",
       "      <td>43943.097656</td>\n",
       "      <td>43943.097656</td>\n",
       "      <td>45899.707031</td>\n",
       "      <td>40813.535156</td>\n",
       "      <td>42280.234375</td>\n",
       "      <td>202311773985</td>\n",
       "    </tr>\n",
       "  </tbody>\n",
       "</table>\n",
       "</div>"
      ],
      "text/plain": [
       "Price          Adj Close         Close          High           Low  \\\n",
       "Ticker           BTC-USD       BTC-USD       BTC-USD       BTC-USD   \n",
       "Date                                                                 \n",
       "2023-12-04  43779.699219  43779.699219  44361.257812  43593.285156   \n",
       "2023-12-11  41364.664062  41364.664062  43808.375000  40234.578125   \n",
       "2023-12-18  43016.117188  43016.117188  44367.957031  40530.257812   \n",
       "2023-12-25  42265.187500  42265.187500  43804.781250  41424.062500   \n",
       "2024-01-01  43943.097656  43943.097656  45899.707031  40813.535156   \n",
       "\n",
       "Price               Open        Volume  \n",
       "Ticker           BTC-USD       BTC-USD  \n",
       "Date                                    \n",
       "2023-12-04  44180.019531   30368691589  \n",
       "2023-12-11  43792.019531  168493481950  \n",
       "2023-12-18  41348.203125  152084171491  \n",
       "2023-12-25  43010.574219  157807126208  \n",
       "2024-01-01  42280.234375  202311773985  "
      ]
     },
     "execution_count": 4,
     "metadata": {},
     "output_type": "execute_result"
    }
   ],
   "source": [
    "btc_weekly.head()"
   ]
  },
  {
   "cell_type": "code",
   "execution_count": 5,
   "id": "b9b403dd-447b-4c2d-9b1a-bf7d5a0f0151",
   "metadata": {},
   "outputs": [
    {
     "name": "stderr",
     "output_type": "stream",
     "text": [
      "[*********************100%***********************]  1 of 1 completed\n"
     ]
    }
   ],
   "source": [
    "# Daily BTC data for the past year\n",
    "btc_daily = yf.download(\"BTC-USD\", \n",
    "                         start=\"2023-12-09\", \n",
    "                         end=\"2024-12-09\", \n",
    "                         interval=\"1d\")"
   ]
  },
  {
   "cell_type": "code",
   "execution_count": 6,
   "id": "ec494b1d-9f07-4b5e-81c4-5b01c6cefdcf",
   "metadata": {},
   "outputs": [
    {
     "data": {
      "text/html": [
       "<div>\n",
       "<style scoped>\n",
       "    .dataframe tbody tr th:only-of-type {\n",
       "        vertical-align: middle;\n",
       "    }\n",
       "\n",
       "    .dataframe tbody tr th {\n",
       "        vertical-align: top;\n",
       "    }\n",
       "\n",
       "    .dataframe thead tr th {\n",
       "        text-align: left;\n",
       "    }\n",
       "\n",
       "    .dataframe thead tr:last-of-type th {\n",
       "        text-align: right;\n",
       "    }\n",
       "</style>\n",
       "<table border=\"1\" class=\"dataframe\">\n",
       "  <thead>\n",
       "    <tr>\n",
       "      <th>Price</th>\n",
       "      <th>Adj Close</th>\n",
       "      <th>Close</th>\n",
       "      <th>High</th>\n",
       "      <th>Low</th>\n",
       "      <th>Open</th>\n",
       "      <th>Volume</th>\n",
       "    </tr>\n",
       "    <tr>\n",
       "      <th>Ticker</th>\n",
       "      <th>BTC-USD</th>\n",
       "      <th>BTC-USD</th>\n",
       "      <th>BTC-USD</th>\n",
       "      <th>BTC-USD</th>\n",
       "      <th>BTC-USD</th>\n",
       "      <th>BTC-USD</th>\n",
       "    </tr>\n",
       "    <tr>\n",
       "      <th>Date</th>\n",
       "      <th></th>\n",
       "      <th></th>\n",
       "      <th></th>\n",
       "      <th></th>\n",
       "      <th></th>\n",
       "      <th></th>\n",
       "    </tr>\n",
       "  </thead>\n",
       "  <tbody>\n",
       "    <tr>\n",
       "      <th>2023-12-09</th>\n",
       "      <td>43725.984375</td>\n",
       "      <td>43725.984375</td>\n",
       "      <td>44361.257812</td>\n",
       "      <td>43627.597656</td>\n",
       "      <td>44180.019531</td>\n",
       "      <td>17368210171</td>\n",
       "    </tr>\n",
       "    <tr>\n",
       "      <th>2023-12-10</th>\n",
       "      <td>43779.699219</td>\n",
       "      <td>43779.699219</td>\n",
       "      <td>44034.625000</td>\n",
       "      <td>43593.285156</td>\n",
       "      <td>43728.382812</td>\n",
       "      <td>13000481418</td>\n",
       "    </tr>\n",
       "    <tr>\n",
       "      <th>2023-12-11</th>\n",
       "      <td>41243.832031</td>\n",
       "      <td>41243.832031</td>\n",
       "      <td>43808.375000</td>\n",
       "      <td>40234.578125</td>\n",
       "      <td>43792.019531</td>\n",
       "      <td>40632672038</td>\n",
       "    </tr>\n",
       "    <tr>\n",
       "      <th>2023-12-12</th>\n",
       "      <td>41450.222656</td>\n",
       "      <td>41450.222656</td>\n",
       "      <td>42048.304688</td>\n",
       "      <td>40667.562500</td>\n",
       "      <td>41238.734375</td>\n",
       "      <td>24779520132</td>\n",
       "    </tr>\n",
       "    <tr>\n",
       "      <th>2023-12-13</th>\n",
       "      <td>42890.742188</td>\n",
       "      <td>42890.742188</td>\n",
       "      <td>43429.781250</td>\n",
       "      <td>40676.867188</td>\n",
       "      <td>41468.464844</td>\n",
       "      <td>26797884674</td>\n",
       "    </tr>\n",
       "  </tbody>\n",
       "</table>\n",
       "</div>"
      ],
      "text/plain": [
       "Price          Adj Close         Close          High           Low  \\\n",
       "Ticker           BTC-USD       BTC-USD       BTC-USD       BTC-USD   \n",
       "Date                                                                 \n",
       "2023-12-09  43725.984375  43725.984375  44361.257812  43627.597656   \n",
       "2023-12-10  43779.699219  43779.699219  44034.625000  43593.285156   \n",
       "2023-12-11  41243.832031  41243.832031  43808.375000  40234.578125   \n",
       "2023-12-12  41450.222656  41450.222656  42048.304688  40667.562500   \n",
       "2023-12-13  42890.742188  42890.742188  43429.781250  40676.867188   \n",
       "\n",
       "Price               Open       Volume  \n",
       "Ticker           BTC-USD      BTC-USD  \n",
       "Date                                   \n",
       "2023-12-09  44180.019531  17368210171  \n",
       "2023-12-10  43728.382812  13000481418  \n",
       "2023-12-11  43792.019531  40632672038  \n",
       "2023-12-12  41238.734375  24779520132  \n",
       "2023-12-13  41468.464844  26797884674  "
      ]
     },
     "execution_count": 6,
     "metadata": {},
     "output_type": "execute_result"
    }
   ],
   "source": [
    "btc_daily.head()"
   ]
  },
  {
   "cell_type": "code",
   "execution_count": 7,
   "id": "b7c94b9e-ddc4-4747-989c-dc94c7a62af3",
   "metadata": {},
   "outputs": [
    {
     "name": "stderr",
     "output_type": "stream",
     "text": [
      "[*********************100%***********************]  1 of 1 completed\n"
     ]
    }
   ],
   "source": [
    "# Minute-by-minute BTC data for a single day\n",
    "btc_minute = yf.download(\"BTC-USD\", \n",
    "                          start=\"2024-12-09\", \n",
    "                          end=\"2024-12-10\",  # End date is exclusive, so set it to the next day\n",
    "                          interval=\"1m\")"
   ]
  },
  {
   "cell_type": "code",
   "execution_count": 8,
   "id": "05fd3624-46e5-4e04-a933-353e319c0c4c",
   "metadata": {},
   "outputs": [
    {
     "data": {
      "text/html": [
       "<div>\n",
       "<style scoped>\n",
       "    .dataframe tbody tr th:only-of-type {\n",
       "        vertical-align: middle;\n",
       "    }\n",
       "\n",
       "    .dataframe tbody tr th {\n",
       "        vertical-align: top;\n",
       "    }\n",
       "\n",
       "    .dataframe thead tr th {\n",
       "        text-align: left;\n",
       "    }\n",
       "\n",
       "    .dataframe thead tr:last-of-type th {\n",
       "        text-align: right;\n",
       "    }\n",
       "</style>\n",
       "<table border=\"1\" class=\"dataframe\">\n",
       "  <thead>\n",
       "    <tr>\n",
       "      <th>Price</th>\n",
       "      <th>Adj Close</th>\n",
       "      <th>Close</th>\n",
       "      <th>High</th>\n",
       "      <th>Low</th>\n",
       "      <th>Open</th>\n",
       "      <th>Volume</th>\n",
       "    </tr>\n",
       "    <tr>\n",
       "      <th>Ticker</th>\n",
       "      <th>BTC-USD</th>\n",
       "      <th>BTC-USD</th>\n",
       "      <th>BTC-USD</th>\n",
       "      <th>BTC-USD</th>\n",
       "      <th>BTC-USD</th>\n",
       "      <th>BTC-USD</th>\n",
       "    </tr>\n",
       "    <tr>\n",
       "      <th>Datetime</th>\n",
       "      <th></th>\n",
       "      <th></th>\n",
       "      <th></th>\n",
       "      <th></th>\n",
       "      <th></th>\n",
       "      <th></th>\n",
       "    </tr>\n",
       "  </thead>\n",
       "  <tbody>\n",
       "    <tr>\n",
       "      <th>2024-12-09 00:00:00+00:00</th>\n",
       "      <td>101212.476562</td>\n",
       "      <td>101212.476562</td>\n",
       "      <td>101212.476562</td>\n",
       "      <td>101212.476562</td>\n",
       "      <td>101212.476562</td>\n",
       "      <td>0</td>\n",
       "    </tr>\n",
       "    <tr>\n",
       "      <th>2024-12-09 00:01:00+00:00</th>\n",
       "      <td>101222.703125</td>\n",
       "      <td>101222.703125</td>\n",
       "      <td>101222.703125</td>\n",
       "      <td>101222.703125</td>\n",
       "      <td>101222.703125</td>\n",
       "      <td>0</td>\n",
       "    </tr>\n",
       "    <tr>\n",
       "      <th>2024-12-09 00:02:00+00:00</th>\n",
       "      <td>101089.031250</td>\n",
       "      <td>101089.031250</td>\n",
       "      <td>101089.031250</td>\n",
       "      <td>101089.031250</td>\n",
       "      <td>101089.031250</td>\n",
       "      <td>94830592</td>\n",
       "    </tr>\n",
       "    <tr>\n",
       "      <th>2024-12-09 00:03:00+00:00</th>\n",
       "      <td>101045.281250</td>\n",
       "      <td>101045.281250</td>\n",
       "      <td>101045.281250</td>\n",
       "      <td>101045.281250</td>\n",
       "      <td>101045.281250</td>\n",
       "      <td>18284544</td>\n",
       "    </tr>\n",
       "    <tr>\n",
       "      <th>2024-12-09 00:04:00+00:00</th>\n",
       "      <td>100978.000000</td>\n",
       "      <td>100978.000000</td>\n",
       "      <td>100978.000000</td>\n",
       "      <td>100978.000000</td>\n",
       "      <td>100978.000000</td>\n",
       "      <td>13172736</td>\n",
       "    </tr>\n",
       "  </tbody>\n",
       "</table>\n",
       "</div>"
      ],
      "text/plain": [
       "Price                          Adj Close          Close           High  \\\n",
       "Ticker                           BTC-USD        BTC-USD        BTC-USD   \n",
       "Datetime                                                                 \n",
       "2024-12-09 00:00:00+00:00  101212.476562  101212.476562  101212.476562   \n",
       "2024-12-09 00:01:00+00:00  101222.703125  101222.703125  101222.703125   \n",
       "2024-12-09 00:02:00+00:00  101089.031250  101089.031250  101089.031250   \n",
       "2024-12-09 00:03:00+00:00  101045.281250  101045.281250  101045.281250   \n",
       "2024-12-09 00:04:00+00:00  100978.000000  100978.000000  100978.000000   \n",
       "\n",
       "Price                                Low           Open    Volume  \n",
       "Ticker                           BTC-USD        BTC-USD   BTC-USD  \n",
       "Datetime                                                           \n",
       "2024-12-09 00:00:00+00:00  101212.476562  101212.476562         0  \n",
       "2024-12-09 00:01:00+00:00  101222.703125  101222.703125         0  \n",
       "2024-12-09 00:02:00+00:00  101089.031250  101089.031250  94830592  \n",
       "2024-12-09 00:03:00+00:00  101045.281250  101045.281250  18284544  \n",
       "2024-12-09 00:04:00+00:00  100978.000000  100978.000000  13172736  "
      ]
     },
     "execution_count": 8,
     "metadata": {},
     "output_type": "execute_result"
    }
   ],
   "source": [
    "btc_minute.head()"
   ]
  },
  {
   "cell_type": "markdown",
   "id": "485e31a9-a044-42f3-a72e-f0fb01d86643",
   "metadata": {},
   "source": [
    "## Log-return and Volatility"
   ]
  },
  {
   "cell_type": "code",
   "execution_count": 9,
   "id": "727eeee7-b7b5-4036-8402-5173970508fc",
   "metadata": {},
   "outputs": [],
   "source": [
    "import numpy as np\n",
    "\n",
    "# Assuming 'btc_daily' is a DataFrame with a 'Close' column\n",
    "btc_daily['log_return'] = np.log(btc_daily['Close'] / btc_daily['Close'].shift(1))"
   ]
  },
  {
   "cell_type": "code",
   "execution_count": 10,
   "id": "00fe34d1-97d0-423d-8169-aa1526bccf3c",
   "metadata": {},
   "outputs": [
    {
     "data": {
      "text/plain": [
       "Date\n",
       "2023-12-09         NaN\n",
       "2023-12-10    0.001228\n",
       "2023-12-11   -0.059669\n",
       "2023-12-12    0.004992\n",
       "2023-12-13    0.034163\n",
       "Name: log_return, dtype: float64"
      ]
     },
     "execution_count": 10,
     "metadata": {},
     "output_type": "execute_result"
    }
   ],
   "source": [
    "btc_daily['log_return'].head()"
   ]
  },
  {
   "cell_type": "code",
   "execution_count": 11,
   "id": "10d844d9-7933-4d56-b71e-95e6df857d2a",
   "metadata": {},
   "outputs": [
    {
     "data": {
      "text/html": [
       "<div>\n",
       "<style scoped>\n",
       "    .dataframe tbody tr th:only-of-type {\n",
       "        vertical-align: middle;\n",
       "    }\n",
       "\n",
       "    .dataframe tbody tr th {\n",
       "        vertical-align: top;\n",
       "    }\n",
       "\n",
       "    .dataframe thead tr th {\n",
       "        text-align: left;\n",
       "    }\n",
       "\n",
       "    .dataframe thead tr:last-of-type th {\n",
       "        text-align: right;\n",
       "    }\n",
       "</style>\n",
       "<table border=\"1\" class=\"dataframe\">\n",
       "  <thead>\n",
       "    <tr>\n",
       "      <th>Price</th>\n",
       "      <th>Adj Close</th>\n",
       "      <th>Close</th>\n",
       "      <th>High</th>\n",
       "      <th>Low</th>\n",
       "      <th>Open</th>\n",
       "      <th>Volume</th>\n",
       "      <th>log_return</th>\n",
       "    </tr>\n",
       "    <tr>\n",
       "      <th>Ticker</th>\n",
       "      <th>BTC-USD</th>\n",
       "      <th>BTC-USD</th>\n",
       "      <th>BTC-USD</th>\n",
       "      <th>BTC-USD</th>\n",
       "      <th>BTC-USD</th>\n",
       "      <th>BTC-USD</th>\n",
       "      <th></th>\n",
       "    </tr>\n",
       "    <tr>\n",
       "      <th>Date</th>\n",
       "      <th></th>\n",
       "      <th></th>\n",
       "      <th></th>\n",
       "      <th></th>\n",
       "      <th></th>\n",
       "      <th></th>\n",
       "      <th></th>\n",
       "    </tr>\n",
       "  </thead>\n",
       "  <tbody>\n",
       "    <tr>\n",
       "      <th>2023-12-09</th>\n",
       "      <td>43725.984375</td>\n",
       "      <td>43725.984375</td>\n",
       "      <td>44361.257812</td>\n",
       "      <td>43627.597656</td>\n",
       "      <td>44180.019531</td>\n",
       "      <td>17368210171</td>\n",
       "      <td>NaN</td>\n",
       "    </tr>\n",
       "    <tr>\n",
       "      <th>2023-12-10</th>\n",
       "      <td>43779.699219</td>\n",
       "      <td>43779.699219</td>\n",
       "      <td>44034.625000</td>\n",
       "      <td>43593.285156</td>\n",
       "      <td>43728.382812</td>\n",
       "      <td>13000481418</td>\n",
       "      <td>0.001228</td>\n",
       "    </tr>\n",
       "    <tr>\n",
       "      <th>2023-12-11</th>\n",
       "      <td>41243.832031</td>\n",
       "      <td>41243.832031</td>\n",
       "      <td>43808.375000</td>\n",
       "      <td>40234.578125</td>\n",
       "      <td>43792.019531</td>\n",
       "      <td>40632672038</td>\n",
       "      <td>-0.059669</td>\n",
       "    </tr>\n",
       "    <tr>\n",
       "      <th>2023-12-12</th>\n",
       "      <td>41450.222656</td>\n",
       "      <td>41450.222656</td>\n",
       "      <td>42048.304688</td>\n",
       "      <td>40667.562500</td>\n",
       "      <td>41238.734375</td>\n",
       "      <td>24779520132</td>\n",
       "      <td>0.004992</td>\n",
       "    </tr>\n",
       "    <tr>\n",
       "      <th>2023-12-13</th>\n",
       "      <td>42890.742188</td>\n",
       "      <td>42890.742188</td>\n",
       "      <td>43429.781250</td>\n",
       "      <td>40676.867188</td>\n",
       "      <td>41468.464844</td>\n",
       "      <td>26797884674</td>\n",
       "      <td>0.034163</td>\n",
       "    </tr>\n",
       "  </tbody>\n",
       "</table>\n",
       "</div>"
      ],
      "text/plain": [
       "Price          Adj Close         Close          High           Low  \\\n",
       "Ticker           BTC-USD       BTC-USD       BTC-USD       BTC-USD   \n",
       "Date                                                                 \n",
       "2023-12-09  43725.984375  43725.984375  44361.257812  43627.597656   \n",
       "2023-12-10  43779.699219  43779.699219  44034.625000  43593.285156   \n",
       "2023-12-11  41243.832031  41243.832031  43808.375000  40234.578125   \n",
       "2023-12-12  41450.222656  41450.222656  42048.304688  40667.562500   \n",
       "2023-12-13  42890.742188  42890.742188  43429.781250  40676.867188   \n",
       "\n",
       "Price               Open       Volume log_return  \n",
       "Ticker           BTC-USD      BTC-USD             \n",
       "Date                                              \n",
       "2023-12-09  44180.019531  17368210171        NaN  \n",
       "2023-12-10  43728.382812  13000481418   0.001228  \n",
       "2023-12-11  43792.019531  40632672038  -0.059669  \n",
       "2023-12-12  41238.734375  24779520132   0.004992  \n",
       "2023-12-13  41468.464844  26797884674   0.034163  "
      ]
     },
     "execution_count": 11,
     "metadata": {},
     "output_type": "execute_result"
    }
   ],
   "source": [
    "btc_daily.head()"
   ]
  },
  {
   "cell_type": "code",
   "execution_count": 12,
   "id": "b3ab2d01-32b4-4c6c-bca8-228ad79da08a",
   "metadata": {},
   "outputs": [
    {
     "name": "stdout",
     "output_type": "stream",
     "text": [
      "Estimated annualized volatility: 0.5285406671846464\n"
     ]
    }
   ],
   "source": [
    "daily_vol = btc_daily['log_return'].std()\n",
    "annual_vol = daily_vol * np.sqrt(365)  # Annualizing the volatility\n",
    "print(\"Estimated annualized volatility:\", annual_vol)"
   ]
  },
  {
   "cell_type": "markdown",
   "id": "1cdfc7a4-f373-4ee8-b3a7-44c9010f30aa",
   "metadata": {},
   "source": [
    "## Download two co-integrated Cryptoasset"
   ]
  },
  {
   "cell_type": "code",
   "execution_count": null,
   "id": "e445fbdc-d8dc-4739-b52c-d37edaec3378",
   "metadata": {},
   "outputs": [],
   "source": [
    "import yfinance as yf\n",
    "import pandas as pd\n",
    "import matplotlib.pyplot as plt\n",
    "\n",
    "def get_continuous_data(ticker, start, end, interval=\"1m\"):\n",
    "    # Download the data for the given ticker and time range\n",
    "    df = yf.download(ticker, start=start, end=end, interval=interval)\n",
    "\n",
    "    # Check if we got any data\n",
    "    if df.empty:\n",
    "        print(f\"No data returned for {ticker}. Please choose a different date range.\")\n",
    "        return df\n",
    "\n",
    "    # Check if the time series has any missing minutes\n",
    "    time_diff = df.index.to_series().diff()\n",
    "    missing_periods = (time_diff > pd.Timedelta(\"1min\")).sum()\n",
    "    print(f\"{ticker} - Number of missing periods:\", missing_periods)\n",
    "\n",
    "    # Create a full one-day minute frequency index\n",
    "    # Use '1T' to represent 1-minute frequency\n",
    "    full_range = pd.date_range(start=start, end=end, freq=\"1T\", tz=df.index.tz)\n",
    "    \n",
    "    # Reindex the DataFrame to the full range and forward fill missing values\n",
    "    df_full = df.reindex(full_range, method=\"ffill\")\n",
    "    return df_full\n",
    "\n",
    "# Prompt the user to input two crypto tickers (e.g., \"BTC-USD\", \"ETH-USD\")\n",
    "ticker1 = input(\"Please enter the first crypto ticker (e.g., BTC-USD): \")\n",
    "ticker2 = input(\"Please enter the second crypto ticker (e.g., ETH-USD): \")\n",
    "\n",
    "# Use a realistic past date range where data actually exists\n",
    "start_date = \"2024-12-09\"\n",
    "end_date = \"2024-12-10\"\n",
    "\n",
    "# Get continuous minute-by-minute data for both tickers\n",
    "df1 = get_continuous_data(ticker1, start_date, end_date)\n",
    "df2 = get_continuous_data(ticker2, start_date, end_date)\n",
    "\n",
    "# Remove the first row of both dataframes\n",
    "df1 = df1.iloc[1:]\n",
    "df2 = df2.iloc[1:]\n",
    "\n",
    "# Check if both dataframes are not empty\n",
    "if df1.empty or df2.empty:\n",
    "    print(\"One or both dataframes are empty. Please try different tickers or date range.\")\n",
    "else:\n",
    "    # Calculate the initial prices and normalize\n",
    "    initial_price_1 = df1['Close'].iloc[0]\n",
    "    initial_price_2 = df2['Close'].iloc[0]\n",
    "\n",
    "    df1_normalized = df1['Close'] / initial_price_1\n",
    "    df2_normalized = df2['Close'] / initial_price_2\n",
    "\n",
    "    # Plot the normalized time series\n",
    "    plt.figure(figsize=(12,6))\n",
    "    plt.plot(df1_normalized.index, df1_normalized, label=f'{ticker1} (Normalized)', color='orange')\n",
    "    plt.plot(df2_normalized.index, df2_normalized, label=f'{ticker2} (Normalized)', color='blue')\n",
    "\n",
    "    plt.title(f'Normalized Price Comparison: {ticker1} vs. {ticker2}')\n",
    "    plt.xlabel('Time')\n",
    "    plt.ylabel('Normalized Value (Starting at 1)')\n",
    "    plt.legend()\n",
    "    plt.grid(True)\n",
    "    plt.show()\n"
   ]
  },
  {
   "cell_type": "code",
   "execution_count": null,
   "id": "02d17811-92db-421c-af9d-3d12084aeb60",
   "metadata": {},
   "outputs": [],
   "source": [
    "# Calculate the log returns for the first asset (df1)\n",
    "lr1 = np.log(df1['Close'].squeeze() / df1['Close'].squeeze().shift(1))\n",
    "\n",
    "# Calculate the log returns for the second asset (df2)\n",
    "lr2 = np.log(df2['Close'].squeeze() / df2['Close'].squeeze().shift(1))\n",
    "\n",
    "# Calculate the mean of log returns for the first asset, annualized for 1440 minutes (1 day)\n",
    "mu_1 = lr1.mean() * 1440\n",
    "\n",
    "# Calculate the mean of log returns for the second asset, annualized for 1440 minutes (1 day)\n",
    "mu_2 = lr2.mean() * 1440\n",
    "\n",
    "# Calculate the standard deviation of log returns for the first asset, scaled to annualized volatility\n",
    "sigma_1 = lr1.std() * np.sqrt(1440)\n",
    "\n",
    "# Calculate the standard deviation of log returns for the second asset, scaled to annualized volatility\n",
    "sigma_2 = lr2.std() * np.sqrt(1440)\n",
    "\n",
    "# Calculate the correlation coefficient between the two assets' log returns\n",
    "rho = lr1.corr(lr2)\n",
    "\n",
    "# Initialize the starting value for the process\n",
    "z_0 = 0.00\n",
    "\n",
    "# Define the risk aversion parameter (gamma) and mean reversion strength (delta)\n",
    "gamma = 0.5\n",
    "delta = 0.8\n",
    "\n",
    "# Define the time horizon (T) and the number of time steps (M)\n",
    "T = 1\n",
    "M = len(df1)"
   ]
  },
  {
   "cell_type": "code",
   "execution_count": null,
   "id": "9ae0e7c5-afcf-40d3-b1b8-416bb1b6dd00",
   "metadata": {},
   "outputs": [],
   "source": [
    "from scipy.stats import linregress\n",
    "\n",
    "# Perform a linear regression on the log-transformed 'Close' prices of the two assets.\n",
    "# The independent variable is the log of df1['Close'] (skipping the first row).\n",
    "# The dependent variable is the log of df2['Close'] (skipping the first row).\n",
    "result = linregress(np.log(df1['Close'].iloc[1:].squeeze()), np.log(df2['Close'].iloc[1:].squeeze()))\n",
    "\n",
    "# Extract the slope of the regression line, representing the beta coefficient.\n",
    "beta = result.slope\n",
    "\n",
    "# Display the calculated beta value\n",
    "beta"
   ]
  },
  {
   "cell_type": "code",
   "execution_count": 74,
   "id": "cfa4c19b-ccc0-4621-9a5f-4f0986f89508",
   "metadata": {},
   "outputs": [
    {
     "name": "stdout",
     "output_type": "stream",
     "text": [
      "Initial price of the first cyrpto (S1_0): Ticker\n",
      "TRX-USD    0.318584\n",
      "Name: 2024-12-09 00:01:00+00:00, dtype: float64\n",
      "Initial price of the second cyrpto (S2_0): Ticker\n",
      "HTX-USD    0.000003\n",
      "Name: 2024-12-09 00:01:00+00:00, dtype: float64\n"
     ]
    }
   ],
   "source": [
    "# Set the initial price for the first asset (S1) to its normalized starting price\n",
    "S1_0 = initial_price_1\n",
    "\n",
    "# Set the initial price for the second asset (S2) to its normalized starting price\n",
    "S2_0 = initial_price_2\n",
    "\n",
    "# Print the initial prices to verify the values\n",
    "print(f\"Initial price of the first cyrpto (S1_0): {S1_0}\")\n",
    "print(f\"Initial price of the second cyrpto (S2_0): {S2_0}\")"
   ]
  },
  {
   "cell_type": "code",
   "execution_count": 75,
   "id": "26dc35cf-a35f-47e4-86ac-10e7720d4ad6",
   "metadata": {},
   "outputs": [],
   "source": [
    "# Define the time step based on the total time horizon (T) and the number of steps (M)\n",
    "dt = T / M\n",
    "\n",
    "# Initialize arrays to store simulation values for both assets and other variables\n",
    "S1 = np.zeros((M + 1, 1))  # Price trajectory for the first asset\n",
    "S2 = np.zeros((M + 1, 1))  # Price trajectory for the second asset\n",
    "z = np.zeros((M + 1, 1))   # Process variable (e.g., mean-reverting factor)\n",
    "a = np.zeros((M + 1, 1))   # Placeholder array for auxiliary calculations\n",
    "b = np.zeros((M + 1, 1))   # Placeholder array for auxiliary calculations\n",
    "c = np.zeros((M + 1, 1))   # Placeholder array for auxiliary calculations\n",
    "Pi_1 = np.zeros((M + 1, 1))  # Weight or portfolio allocation for the first asset\n",
    "Pi_2 = np.zeros((M + 1, 1))  # Weight or portfolio allocation for the second asset"
   ]
  },
  {
   "cell_type": "code",
   "execution_count": 76,
   "id": "31888bf9-3e17-4e64-bbb3-479a6a0a0ff2",
   "metadata": {},
   "outputs": [],
   "source": [
    "# Create a time grid from 0 to 1 with M+1 evenly spaced points\n",
    "tt = np.linspace(0, 1, M + 1)\n",
    "\n",
    "# Set initial values for the process variables and asset prices\n",
    "z[0] = z_0  # Initial value for the process variable z\n",
    "S1[0] = S1_0  # Initial price of the first asset\n",
    "S2[0] = S2_0  # Initial price of the second asset\n",
    "\n",
    "# Calculate the combined volatility (sigma_beta) of the portfolio\n",
    "sigma_beta = np.sqrt(sigma_1 ** 2 + beta ** 2 * sigma_2 ** 2 + 2 * beta * sigma_1 * sigma_2 * rho)\n",
    "\n",
    "# Calculate the mean-reversion target (eta) based on model parameters\n",
    "eta = (-1 / delta) * (mu_1 - sigma_1 ** 2 / 2 + beta * (mu_2 - sigma_2 ** 2 / 2))\n",
    "\n",
    "# Generate random numbers for the stochastic process\n",
    "rn = np.random.standard_normal(z.shape)\n",
    "\n",
    "# Simulate the process and update prices for each time step\n",
    "for t in range(1, M + 1):\n",
    "    # Update the process variable z using a mean-reverting model with randomness\n",
    "    z[t] = z[t-1] * (1 - delta * (eta - z[t-1])) * dt + sigma_beta * np.sqrt(dt) * (\n",
    "        (sigma_1 + beta * sigma_2 * rho) / sigma_beta * rn[t] + \n",
    "        beta * (sigma_2 * np.sqrt(1 - rho ** 2) / sigma_beta) * rn[t]\n",
    "    )\n",
    "    \n",
    "    # Update the prices for the assets based on the data\n",
    "    S1[t] = df1['Close'].iloc[t-1]  # Price of the first asset at time t\n",
    "    S2[t] = df2['Close'].iloc[t-1]  # Price of the second asset at time t"
   ]
  },
  {
   "cell_type": "code",
   "execution_count": 77,
   "id": "1c5b939d-9f35-4a2d-a849-42eb1a29cc53",
   "metadata": {},
   "outputs": [
    {
     "data": {
      "text/plain": [
       "Text(0.5, 1.0, 'z')"
      ]
     },
     "execution_count": 77,
     "metadata": {},
     "output_type": "execute_result"
    },
    {
     "data": {
      "image/png": "[encoded data removed]",
      "text/plain": [
       "<Figure size 1000x600 with 1 Axes>"
      ]
     },
     "metadata": {},
     "output_type": "display_data"
    }
   ],
   "source": [
    "# Create a new figure with specified dimensions\n",
    "plt.figure(figsize=(10, 6))\n",
    "\n",
    "# Plot the process variable z over time\n",
    "plt.plot(tt, z, 'g', lw=1.5)  # Green line with a line width of 1.5\n",
    "\n",
    "# Label the x-axis and y-axis\n",
    "plt.xlabel('Time')  # X-axis represents time\n",
    "plt.ylabel('Rate')  # Y-axis represents the rate (z)\n",
    "\n",
    "# Add a title to the plot\n",
    "plt.title('z')  # Title represents the process variable being plotted"
   ]
  },
  {
   "cell_type": "code",
   "execution_count": 78,
   "id": "55c058f9-6159-487b-ac85-fbb93dbc2c99",
   "metadata": {},
   "outputs": [],
   "source": [
    "for t in range(1, M + 1):\n",
    "    # Calculate the coefficient a[t], related to the risk-aversion and variance\n",
    "    a[t] = 0.5 * (T - t * dt) / ((1 - rho ** 2) * sigma_1 ** 2)\n",
    "    \n",
    "    # Calculate the coefficient b[t], involving the interaction of the asset variances and correlation\n",
    "    b[t] = -0.25 * (T - t * dt) ** 2 * (sigma_1 ** 2 + beta * sigma_2 ** 2) / ((1 - rho ** 2) * sigma_1 ** 2) \\\n",
    "           - rho * mu_2 * (T - t * dt) / ((1 - rho ** 2) * sigma_1 * sigma_2)\n",
    "    \n",
    "    # Calculate the coefficient c[t], combining multiple terms of mean, variance, and correlation\n",
    "    c[t] = 0.5 * mu_2 ** 2 * (T - t * dt) / ((1 - rho ** 2) * sigma_2 ** 2) \\\n",
    "           + 0.25 * (T - t * dt) ** 2 * (sigma_1 ** 2 + beta * sigma_2 ** 2 + 2 * sigma_1 * sigma_2 * beta * rho) * delta ** 2 / ((1 - rho ** 2) * sigma_1 ** 2) \\\n",
    "           + 0.25 * (T - t * dt) ** 2 * mu_2 * delta * rho * (sigma_1 ** 2 + beta * sigma_2 ** 2) \\\n",
    "           + 1 / 24 * (T - t * dt) ** 3 * (sigma_1 ** 2 + beta * sigma_2 ** 2) ** 2 * delta ** 2 / ((1 - rho ** 2) * sigma_1 ** 2)\n",
    "    \n",
    "    # Compute the portfolio weight for the first asset (Pi_1) considering risk-aversion and dynamics\n",
    "    Pi_1[t] = (1 / S1[t-1]) * (\n",
    "        (mu_1 + delta * z[t]) / (gamma * (1 - rho ** 2) * sigma_1 ** 2) \\\n",
    "        + delta / gamma * (-2 * a[t] * (mu_1 + delta * z[t]) - b[t]) \\\n",
    "        - rho * mu_2 / (gamma * (1 - rho ** 2) * sigma_1 * sigma_2)\n",
    "    )\n",
    "    \n",
    "    # Compute the portfolio weight for the second asset (Pi_2) with similar dynamics\n",
    "    Pi_2[t] = (1 / S2[t-1]) * (\n",
    "        mu_2 / (gamma * (1 - rho ** 2) * sigma_2 ** 2) \\\n",
    "        + delta * beta / gamma * (-2 * a[t] * (mu_1 + delta * z[t]) - b[t]) \\\n",
    "        - rho * (mu_1 + delta * z[t]) / (gamma * (1 - rho ** 2) * sigma_1 * sigma_2)\n",
    "    )"
   ]
  },
  {
   "cell_type": "markdown",
   "id": "c59fd1b3-8173-4a2e-b971-49de21b554ea",
   "metadata": {},
   "source": [
    "## Weight process"
   ]
  },
  {
   "cell_type": "code",
   "execution_count": 79,
   "id": "bafc4d7a-dba2-4f6a-a28d-322dc6b0334f",
   "metadata": {},
   "outputs": [
    {
     "data": {
      "text/plain": [
       "Text(0.5, 1.0, 'Weights')"
      ]
     },
     "execution_count": 79,
     "metadata": {},
     "output_type": "execute_result"
    },
    {
     "data": {
      "image/png": "[encoded data removed]",
      "text/plain": [
       "<Figure size 1000x600 with 1 Axes>"
      ]
     },
     "metadata": {},
     "output_type": "display_data"
    }
   ],
   "source": [
    "# Create a new figure with specified dimensions\n",
    "plt.figure(figsize=(10, 6))\n",
    "\n",
    "# Plot the portfolio weight for the first asset (Pi_1) over time\n",
    "plt.plot(tt, Pi_1, 'b', lw=1.5, label='w1')  # Blue line representing the first asset weight\n",
    "\n",
    "# Plot the portfolio weight for the second asset (Pi_2) over time\n",
    "plt.plot(tt, Pi_2, 'r', lw=1.5, label='w2')  # Red line representing the second asset weight\n",
    "\n",
    "# Add a legend to distinguish between the two weights\n",
    "plt.legend(loc=0)  # Automatically selects the best location for the legend\n",
    "\n",
    "# Label the x-axis as 'Time'\n",
    "plt.xlabel('Time')\n",
    "\n",
    "# Label the y-axis as '%' (weights as percentages)\n",
    "plt.ylabel('%')\n",
    "\n",
    "# Add a title to the plot to describe its content\n",
    "plt.title('Weights')"
   ]
  },
  {
   "cell_type": "markdown",
   "id": "6bb3d101-2c84-4fdf-9941-a6c04c1230c6",
   "metadata": {},
   "source": [
    "## Wealth process"
   ]
  },
  {
   "cell_type": "code",
   "execution_count": 82,
   "id": "ee6497a1-5195-4c42-a842-6e5aa0e89a76",
   "metadata": {},
   "outputs": [
    {
     "data": {
      "text/plain": [
       "Text(0.5, 1.0, 'Weights')"
      ]
     },
     "execution_count": 82,
     "metadata": {},
     "output_type": "execute_result"
    },
    {
     "data": {
      "image/png": "[encoded data removed]",
      "text/plain": [
       "<Figure size 1000x600 with 1 Axes>"
      ]
     },
     "metadata": {},
     "output_type": "display_data"
    }
   ],
   "source": [
    "# Create a new figure with specified dimensions\n",
    "plt.figure(figsize=(10, 6))\n",
    "\n",
    "# Plot the portfolio weight for the first asset (Pi_1) over time\n",
    "plt.plot(tt, Pi_1, 'b', lw=1.5, label='w1')  # Blue line representing the first asset weight\n",
    "\n",
    "# Plot the portfolio weight for the second asset (Pi_2) over time\n",
    "plt.plot(tt, Pi_2, 'r', lw=1.5, label='w2')  # Red line representing the second asset weight\n",
    "\n",
    "# Add a legend to distinguish between the two weights\n",
    "plt.legend(loc=0)  # Automatically selects the best location for the legend\n",
    "\n",
    "# Label the x-axis as 'Time'\n",
    "plt.xlabel('Time')\n",
    "\n",
    "# Label the y-axis as '%' (weights as percentages)\n",
    "plt.ylabel('%')\n",
    "\n",
    "# Add a title to the plot to describe its content\n",
    "plt.title('Weights')"
   ]
  },
  {
   "cell_type": "code",
   "execution_count": 83,
   "id": "d45dcfe3-a0bf-4aa6-afb7-e1303ac82688",
   "metadata": {},
   "outputs": [
    {
     "data": {
      "text/plain": [
       "Text(0.5, 1.0, 'Wealth')"
      ]
     },
     "execution_count": 83,
     "metadata": {},
     "output_type": "execute_result"
    },
    {
     "data": {
      "image/png": "[encoded data removed]",
      "text/plain": [
       "<Figure size 1000x600 with 1 Axes>"
      ]
     },
     "metadata": {},
     "output_type": "display_data"
    }
   ],
   "source": [
    "# Calculate the total wealth as the sum of the absolute contributions from both assets\n",
    "Wealth = abs(Pi_1 * S1) + abs(Pi_2 * S2)\n",
    "\n",
    "# Create a new figure with specified dimensions\n",
    "plt.figure(figsize=(10, 6))\n",
    "\n",
    "# Plot the total wealth over time, excluding the initial value at t=0\n",
    "plt.plot(tt[1:], Wealth[1:], 'b', lw=1.5, label='Total')  # Blue line for total wealth\n",
    "\n",
    "# Add a legend to label the total wealth line\n",
    "plt.legend(loc=0)  # Automatically selects the best location for the legend\n",
    "\n",
    "# Label the x-axis as 'Time'\n",
    "plt.xlabel('Time')\n",
    "\n",
    "# Label the y-axis as '$' to represent monetary value\n",
    "plt.ylabel('$')\n",
    "\n",
    "# Add a title to describe the content of the plot\n",
    "plt.title('Wealth')"
   ]
  },
  {
   "cell_type": "markdown",
   "id": "162023b4-90ce-474a-b446-fd5a71d678bf",
   "metadata": {},
   "source": [
    "## Total return"
   ]
  },
  {
   "cell_type": "code",
   "execution_count": 54,
   "id": "14fcda61-9695-47ca-be9b-0562032b8ab0",
   "metadata": {},
   "outputs": [
    {
     "data": {
      "text/plain": [
       "array([10.67945284])"
      ]
     },
     "execution_count": 54,
     "metadata": {},
     "output_type": "execute_result"
    }
   ],
   "source": [
    "Wealth[3]   # Inital Wealth"
   ]
  },
  {
   "cell_type": "code",
   "execution_count": 55,
   "id": "1c229101-8a54-45ea-abad-c9eed995d7ad",
   "metadata": {},
   "outputs": [
    {
     "data": {
      "text/plain": [
       "array([103.29858548])"
      ]
     },
     "execution_count": 55,
     "metadata": {},
     "output_type": "execute_result"
    }
   ],
   "source": [
    "Wealth[-1]  # Ending Wealth"
   ]
  },
  {
   "cell_type": "code",
   "execution_count": 85,
   "id": "2e7506c8-bc22-4e45-9bb1-e8538464c5c4",
   "metadata": {},
   "outputs": [
    {
     "name": "stdout",
     "output_type": "stream",
     "text": [
      "Return: 742.24%\n"
     ]
    }
   ],
   "source": [
    "# Calculate the normal return as the percentage change in wealth from t=3 to the final time\n",
    "Return = (Wealth[-1] - Wealth[3]) / Wealth[3]  # Normal Return\n",
    "\n",
    "# Convert the return to a percentage and print it\n",
    "print(f\"Return: {Return.item() * 100:.2f}%\")  # Print the return as a percentage with two decimal places"
   ]
  }
 ],
 "metadata": {
  "kernelspec": {
   "display_name": "Python 3 (ipykernel)",
   "language": "python",
   "name": "python3"
  },
  "language_info": {
   "codemirror_mode": {
    "name": "ipython",
    "version": 3
   },
   "file_extension": ".py",
   "mimetype": "text/x-python",
   "name": "python",
   "nbconvert_exporter": "python",
   "pygments_lexer": "ipython3",
   "version": "3.12.7"
  }
 },
 "nbformat": 4,
 "nbformat_minor": 5
}
